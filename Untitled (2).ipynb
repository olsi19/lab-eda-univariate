{
 "cells": [
  {
   "cell_type": "code",
   "execution_count": 2,
   "id": "5b573d29-26f3-4abc-a53a-eb16c60cabca",
   "metadata": {},
   "outputs": [],
   "source": [
    "import pandas as pd\n",
    "import matplotlib.pyplot as plt\n",
    "import seaborn as sns\n",
    "import numpy as np\n",
    "df = pd.read_csv(r\"C:\\Users\\zaiid\\OneDrive\\Desktop\\lab-eda-univariate\\amz_uk_processed_data.csv\")"
   ]
  },
  {
   "cell_type": "code",
   "execution_count": 3,
   "id": "faf00ede-f276-434a-a885-6aa25f3d0979",
   "metadata": {},
   "outputs": [
    {
     "data": {
      "text/html": [
       "<div>\n",
       "<style scoped>\n",
       "    .dataframe tbody tr th:only-of-type {\n",
       "        vertical-align: middle;\n",
       "    }\n",
       "\n",
       "    .dataframe tbody tr th {\n",
       "        vertical-align: top;\n",
       "    }\n",
       "\n",
       "    .dataframe thead th {\n",
       "        text-align: right;\n",
       "    }\n",
       "</style>\n",
       "<table border=\"1\" class=\"dataframe\">\n",
       "  <thead>\n",
       "    <tr style=\"text-align: right;\">\n",
       "      <th></th>\n",
       "      <th>asin</th>\n",
       "      <th>title</th>\n",
       "      <th>imgUrl</th>\n",
       "      <th>productURL</th>\n",
       "      <th>stars</th>\n",
       "      <th>reviews</th>\n",
       "      <th>price</th>\n",
       "      <th>isBestSeller</th>\n",
       "      <th>boughtInLastMonth</th>\n",
       "      <th>categoryName</th>\n",
       "    </tr>\n",
       "  </thead>\n",
       "  <tbody>\n",
       "    <tr>\n",
       "      <th>0</th>\n",
       "      <td>B09B96TG33</td>\n",
       "      <td>Echo Dot (5th generation, 2022 release) | Big ...</td>\n",
       "      <td>https://m.media-amazon.com/images/I/71C3lbbeLs...</td>\n",
       "      <td>https://www.amazon.co.uk/dp/B09B96TG33</td>\n",
       "      <td>4.7</td>\n",
       "      <td>15308</td>\n",
       "      <td>21.99</td>\n",
       "      <td>False</td>\n",
       "      <td>0</td>\n",
       "      <td>Hi-Fi Speakers</td>\n",
       "    </tr>\n",
       "    <tr>\n",
       "      <th>1</th>\n",
       "      <td>B01HTH3C8S</td>\n",
       "      <td>Anker Soundcore mini, Super-Portable Bluetooth...</td>\n",
       "      <td>https://m.media-amazon.com/images/I/61c5rSxwP0...</td>\n",
       "      <td>https://www.amazon.co.uk/dp/B01HTH3C8S</td>\n",
       "      <td>4.7</td>\n",
       "      <td>98099</td>\n",
       "      <td>23.99</td>\n",
       "      <td>True</td>\n",
       "      <td>0</td>\n",
       "      <td>Hi-Fi Speakers</td>\n",
       "    </tr>\n",
       "    <tr>\n",
       "      <th>2</th>\n",
       "      <td>B09B8YWXDF</td>\n",
       "      <td>Echo Dot (5th generation, 2022 release) | Big ...</td>\n",
       "      <td>https://m.media-amazon.com/images/I/61j3SEUjMJ...</td>\n",
       "      <td>https://www.amazon.co.uk/dp/B09B8YWXDF</td>\n",
       "      <td>4.7</td>\n",
       "      <td>15308</td>\n",
       "      <td>21.99</td>\n",
       "      <td>False</td>\n",
       "      <td>0</td>\n",
       "      <td>Hi-Fi Speakers</td>\n",
       "    </tr>\n",
       "    <tr>\n",
       "      <th>3</th>\n",
       "      <td>B09B8T5VGV</td>\n",
       "      <td>Echo Dot with clock (5th generation, 2022 rele...</td>\n",
       "      <td>https://m.media-amazon.com/images/I/71yf6yTNWS...</td>\n",
       "      <td>https://www.amazon.co.uk/dp/B09B8T5VGV</td>\n",
       "      <td>4.7</td>\n",
       "      <td>7205</td>\n",
       "      <td>31.99</td>\n",
       "      <td>False</td>\n",
       "      <td>0</td>\n",
       "      <td>Hi-Fi Speakers</td>\n",
       "    </tr>\n",
       "    <tr>\n",
       "      <th>4</th>\n",
       "      <td>B09WX6QD65</td>\n",
       "      <td>Introducing Echo Pop | Full sound compact Wi-F...</td>\n",
       "      <td>https://m.media-amazon.com/images/I/613dEoF9-r...</td>\n",
       "      <td>https://www.amazon.co.uk/dp/B09WX6QD65</td>\n",
       "      <td>4.6</td>\n",
       "      <td>1881</td>\n",
       "      <td>17.99</td>\n",
       "      <td>False</td>\n",
       "      <td>0</td>\n",
       "      <td>Hi-Fi Speakers</td>\n",
       "    </tr>\n",
       "    <tr>\n",
       "      <th>...</th>\n",
       "      <td>...</td>\n",
       "      <td>...</td>\n",
       "      <td>...</td>\n",
       "      <td>...</td>\n",
       "      <td>...</td>\n",
       "      <td>...</td>\n",
       "      <td>...</td>\n",
       "      <td>...</td>\n",
       "      <td>...</td>\n",
       "      <td>...</td>\n",
       "    </tr>\n",
       "    <tr>\n",
       "      <th>2222737</th>\n",
       "      <td>B0CHSD7P2Q</td>\n",
       "      <td>Motorbike Armour, Motorbike Clothing, Cycling ...</td>\n",
       "      <td>https://m.media-amazon.com/images/I/61ycPU7k4k...</td>\n",
       "      <td>https://www.amazon.co.uk/dp/B0CHSD7P2Q</td>\n",
       "      <td>0.0</td>\n",
       "      <td>0</td>\n",
       "      <td>22.34</td>\n",
       "      <td>False</td>\n",
       "      <td>0</td>\n",
       "      <td>Motorbike Clothing</td>\n",
       "    </tr>\n",
       "    <tr>\n",
       "      <th>2222738</th>\n",
       "      <td>B0B7B8FNBQ</td>\n",
       "      <td>PROFIRST Waterproof Motorcycle 2 Piece Ladies ...</td>\n",
       "      <td>https://m.media-amazon.com/images/I/51gkh0iYT5...</td>\n",
       "      <td>https://www.amazon.co.uk/dp/B0B7B8FNBQ</td>\n",
       "      <td>0.0</td>\n",
       "      <td>0</td>\n",
       "      <td>97.99</td>\n",
       "      <td>False</td>\n",
       "      <td>0</td>\n",
       "      <td>Motorbike Clothing</td>\n",
       "    </tr>\n",
       "    <tr>\n",
       "      <th>2222739</th>\n",
       "      <td>B0BD5FL5FB</td>\n",
       "      <td>Men’s Motorcycle Motorbike Biker Trousers Kevl...</td>\n",
       "      <td>https://m.media-amazon.com/images/I/81gJgaMHg4...</td>\n",
       "      <td>https://www.amazon.co.uk/dp/B0BD5FL5FB</td>\n",
       "      <td>0.0</td>\n",
       "      <td>0</td>\n",
       "      <td>52.99</td>\n",
       "      <td>False</td>\n",
       "      <td>0</td>\n",
       "      <td>Motorbike Clothing</td>\n",
       "    </tr>\n",
       "    <tr>\n",
       "      <th>2222740</th>\n",
       "      <td>B008OYLL4I</td>\n",
       "      <td>Texpeed Mens Motorcycle Motorbike Biker Trouse...</td>\n",
       "      <td>https://m.media-amazon.com/images/I/81KQ5askGG...</td>\n",
       "      <td>https://www.amazon.co.uk/dp/B008OYLL4I</td>\n",
       "      <td>4.3</td>\n",
       "      <td>404</td>\n",
       "      <td>79.99</td>\n",
       "      <td>False</td>\n",
       "      <td>0</td>\n",
       "      <td>Motorbike Clothing</td>\n",
       "    </tr>\n",
       "    <tr>\n",
       "      <th>2222741</th>\n",
       "      <td>B08P3W9B3T</td>\n",
       "      <td>RIDEX CJ223 Motorcycle Motorbike Jacket Armour...</td>\n",
       "      <td>https://m.media-amazon.com/images/I/61QaDygK8m...</td>\n",
       "      <td>https://www.amazon.co.uk/dp/B08P3W9B3T</td>\n",
       "      <td>4.5</td>\n",
       "      <td>34</td>\n",
       "      <td>53.99</td>\n",
       "      <td>False</td>\n",
       "      <td>0</td>\n",
       "      <td>Motorbike Clothing</td>\n",
       "    </tr>\n",
       "  </tbody>\n",
       "</table>\n",
       "<p>2222742 rows × 10 columns</p>\n",
       "</div>"
      ],
      "text/plain": [
       "               asin                                              title  \\\n",
       "0        B09B96TG33  Echo Dot (5th generation, 2022 release) | Big ...   \n",
       "1        B01HTH3C8S  Anker Soundcore mini, Super-Portable Bluetooth...   \n",
       "2        B09B8YWXDF  Echo Dot (5th generation, 2022 release) | Big ...   \n",
       "3        B09B8T5VGV  Echo Dot with clock (5th generation, 2022 rele...   \n",
       "4        B09WX6QD65  Introducing Echo Pop | Full sound compact Wi-F...   \n",
       "...             ...                                                ...   \n",
       "2222737  B0CHSD7P2Q  Motorbike Armour, Motorbike Clothing, Cycling ...   \n",
       "2222738  B0B7B8FNBQ  PROFIRST Waterproof Motorcycle 2 Piece Ladies ...   \n",
       "2222739  B0BD5FL5FB  Men’s Motorcycle Motorbike Biker Trousers Kevl...   \n",
       "2222740  B008OYLL4I  Texpeed Mens Motorcycle Motorbike Biker Trouse...   \n",
       "2222741  B08P3W9B3T  RIDEX CJ223 Motorcycle Motorbike Jacket Armour...   \n",
       "\n",
       "                                                    imgUrl  \\\n",
       "0        https://m.media-amazon.com/images/I/71C3lbbeLs...   \n",
       "1        https://m.media-amazon.com/images/I/61c5rSxwP0...   \n",
       "2        https://m.media-amazon.com/images/I/61j3SEUjMJ...   \n",
       "3        https://m.media-amazon.com/images/I/71yf6yTNWS...   \n",
       "4        https://m.media-amazon.com/images/I/613dEoF9-r...   \n",
       "...                                                    ...   \n",
       "2222737  https://m.media-amazon.com/images/I/61ycPU7k4k...   \n",
       "2222738  https://m.media-amazon.com/images/I/51gkh0iYT5...   \n",
       "2222739  https://m.media-amazon.com/images/I/81gJgaMHg4...   \n",
       "2222740  https://m.media-amazon.com/images/I/81KQ5askGG...   \n",
       "2222741  https://m.media-amazon.com/images/I/61QaDygK8m...   \n",
       "\n",
       "                                     productURL  stars  reviews  price  \\\n",
       "0        https://www.amazon.co.uk/dp/B09B96TG33    4.7    15308  21.99   \n",
       "1        https://www.amazon.co.uk/dp/B01HTH3C8S    4.7    98099  23.99   \n",
       "2        https://www.amazon.co.uk/dp/B09B8YWXDF    4.7    15308  21.99   \n",
       "3        https://www.amazon.co.uk/dp/B09B8T5VGV    4.7     7205  31.99   \n",
       "4        https://www.amazon.co.uk/dp/B09WX6QD65    4.6     1881  17.99   \n",
       "...                                         ...    ...      ...    ...   \n",
       "2222737  https://www.amazon.co.uk/dp/B0CHSD7P2Q    0.0        0  22.34   \n",
       "2222738  https://www.amazon.co.uk/dp/B0B7B8FNBQ    0.0        0  97.99   \n",
       "2222739  https://www.amazon.co.uk/dp/B0BD5FL5FB    0.0        0  52.99   \n",
       "2222740  https://www.amazon.co.uk/dp/B008OYLL4I    4.3      404  79.99   \n",
       "2222741  https://www.amazon.co.uk/dp/B08P3W9B3T    4.5       34  53.99   \n",
       "\n",
       "         isBestSeller  boughtInLastMonth        categoryName  \n",
       "0               False                  0      Hi-Fi Speakers  \n",
       "1                True                  0      Hi-Fi Speakers  \n",
       "2               False                  0      Hi-Fi Speakers  \n",
       "3               False                  0      Hi-Fi Speakers  \n",
       "4               False                  0      Hi-Fi Speakers  \n",
       "...               ...                ...                 ...  \n",
       "2222737         False                  0  Motorbike Clothing  \n",
       "2222738         False                  0  Motorbike Clothing  \n",
       "2222739         False                  0  Motorbike Clothing  \n",
       "2222740         False                  0  Motorbike Clothing  \n",
       "2222741         False                  0  Motorbike Clothing  \n",
       "\n",
       "[2222742 rows x 10 columns]"
      ]
     },
     "execution_count": 3,
     "metadata": {},
     "output_type": "execute_result"
    }
   ],
   "source": [
    "df"
   ]
  },
  {
   "cell_type": "code",
   "execution_count": 52,
   "id": "a28d08e3-b992-45ba-9260-b21bb3e2011d",
   "metadata": {},
   "outputs": [
    {
     "data": {
      "text/plain": [
       "(2222742, 10)"
      ]
     },
     "execution_count": 52,
     "metadata": {},
     "output_type": "execute_result"
    }
   ],
   "source": [
    "df.shape"
   ]
  },
  {
   "cell_type": "code",
   "execution_count": 4,
   "id": "e82ebbba-c21f-4d98-99e4-62e9dc306fcd",
   "metadata": {},
   "outputs": [],
   "source": [
    "##Frequency Tables:\n",
    "\n",
    "#Generate a frequency table for the product category.\n",
    "#Which are the top 5 most listed product categories?"
   ]
  },
  {
   "cell_type": "code",
   "execution_count": 23,
   "id": "6d3bacbd-cbc9-414b-b2fe-0c7f451c658d",
   "metadata": {},
   "outputs": [],
   "source": [
    "frequency_table = df[\"categoryName\"].value_counts()\n",
    "\n",
    "proportion_table = df[\"categoryName\"].value_counts(normalize=True)\n",
    "\n"
   ]
  },
  {
   "cell_type": "code",
   "execution_count": 24,
   "id": "d6f6abb2-78a1-4d2d-a299-e7e6ca13f5c1",
   "metadata": {},
   "outputs": [],
   "source": [
    "my_table = pd.crosstab(index = df[\"categoryName\"],  \n",
    "                              columns=\"count\")\n"
   ]
  },
  {
   "cell_type": "code",
   "execution_count": 14,
   "id": "c0294350-235b-486c-adff-2b7bb15870b8",
   "metadata": {},
   "outputs": [
    {
     "data": {
      "text/html": [
       "<div>\n",
       "<style scoped>\n",
       "    .dataframe tbody tr th:only-of-type {\n",
       "        vertical-align: middle;\n",
       "    }\n",
       "\n",
       "    .dataframe tbody tr th {\n",
       "        vertical-align: top;\n",
       "    }\n",
       "\n",
       "    .dataframe thead th {\n",
       "        text-align: right;\n",
       "    }\n",
       "</style>\n",
       "<table border=\"1\" class=\"dataframe\">\n",
       "  <thead>\n",
       "    <tr style=\"text-align: right;\">\n",
       "      <th>col_0</th>\n",
       "      <th>count</th>\n",
       "    </tr>\n",
       "    <tr>\n",
       "      <th>categoryName</th>\n",
       "      <th></th>\n",
       "    </tr>\n",
       "  </thead>\n",
       "  <tbody>\n",
       "    <tr>\n",
       "      <th>Sports &amp; Outdoors</th>\n",
       "      <td>826076</td>\n",
       "    </tr>\n",
       "    <tr>\n",
       "      <th>Skin Care</th>\n",
       "      <td>18755</td>\n",
       "    </tr>\n",
       "    <tr>\n",
       "      <th>Fragrances</th>\n",
       "      <td>18563</td>\n",
       "    </tr>\n",
       "    <tr>\n",
       "      <th>Make-up</th>\n",
       "      <td>18453</td>\n",
       "    </tr>\n",
       "    <tr>\n",
       "      <th>Manicure &amp; Pedicure Products</th>\n",
       "      <td>17212</td>\n",
       "    </tr>\n",
       "  </tbody>\n",
       "</table>\n",
       "</div>"
      ],
      "text/plain": [
       "col_0                          count\n",
       "categoryName                        \n",
       "Sports & Outdoors             826076\n",
       "Skin Care                      18755\n",
       "Fragrances                     18563\n",
       "Make-up                        18453\n",
       "Manicure & Pedicure Products   17212"
      ]
     },
     "execution_count": 14,
     "metadata": {},
     "output_type": "execute_result"
    }
   ],
   "source": [
    "sorted_table = my_table.sort_values(by='count', ascending=False)\n",
    "\n",
    "\n",
    "sorted_table.head()"
   ]
  },
  {
   "cell_type": "code",
   "execution_count": null,
   "id": "31082da5-b001-4b41-82dc-a8c447fe8f7b",
   "metadata": {},
   "outputs": [],
   "source": [
    "#Visualizations:\n",
    "\n",
    "#Display the distribution of products across different categories using a bar chart. If you face problems understanding the chart, do it for a subset of top categories.\n",
    "#For a subset of top categories, visualize their proportions using a pie chart. Does any category dominate the listings?"
   ]
  },
  {
   "cell_type": "code",
   "execution_count": 15,
   "id": "2a33194b-6df5-427b-bb85-a3e6ce7f5351",
   "metadata": {},
   "outputs": [
    {
     "data": {
      "image/png": "[encoded data removed]",
      "text/plain": [
       "<Figure size 1500x2000 with 4 Axes>"
      ]
     },
     "metadata": {},
     "output_type": "display_data"
    }
   ],
   "source": [
    "df.hist(figsize=(15, 20), bins=60, xlabelsize=10, ylabelsize=10);"
   ]
  },
  {
   "cell_type": "code",
   "execution_count": 22,
   "id": "fe441a39-d79e-4a87-961c-358e07f96304",
   "metadata": {},
   "outputs": [
    {
     "data": {
      "text/plain": [
       "<Axes: ylabel='count'>"
      ]
     },
     "execution_count": 22,
     "metadata": {},
     "output_type": "execute_result"
    },
    {
     "data": {
      "image/png": "[encoded data removed]",
      "text/plain": [
       "<Figure size 640x480 with 1 Axes>"
      ]
     },
     "metadata": {},
     "output_type": "display_data"
    }
   ],
   "source": [
    "df[\"categoryName\"].value_counts().head(5).plot.pie(autopct='%1.1f%%', startangle=0, colors=sns.color_palette(\"Set3\"))"
   ]
  },
  {
   "cell_type": "code",
   "execution_count": 26,
   "id": "0feb5ff1-9caa-46a4-bdec-c1ac24ec3b05",
   "metadata": {},
   "outputs": [],
   "source": [
    "#Business Question: How are products priced on Amazon UK, and are there specific price points or ranges that are more common?\n",
    "\n",
    "#Measures of Centrality:\n",
    "\n",
    "#Calculate the mean, median, and mode for the price of products.\n",
    "#What's the average price point of products listed? How does this compare with the most common price point (mode)?\n",
    "#Measures of Dispersion:\n",
    "\n",
    "#Determine the variance, standard deviation, range, and interquartile range for product price.\n",
    "#How varied are the product prices? Are there any indicators of a significant spread in prices?\n",
    "#Visualizations:\n",
    "\n",
    "#Is there a specific price range where most products fall? Plot a histogram to visualize the distribution of product prices. If its hard to read these diagrams, think why this is, and explain how it could be solved..\n",
    "#Are there products that are priced significantly higher than the rest? Use a box plot to showcase the spread and potential outliers in product pricing.\n"
   ]
  },
  {
   "cell_type": "code",
   "execution_count": 28,
   "id": "99e8e851-51f0-400e-bb10-7a1f2f9de006",
   "metadata": {},
   "outputs": [
    {
     "data": {
      "text/plain": [
       "count    2222742.00\n",
       "mean          94.26\n",
       "std          360.62\n",
       "min            0.00\n",
       "25%           10.00\n",
       "50%           19.90\n",
       "75%           47.71\n",
       "max       100000.00\n",
       "Name: price, dtype: float64"
      ]
     },
     "execution_count": 28,
     "metadata": {},
     "output_type": "execute_result"
    }
   ],
   "source": [
    "round(df.price.describe(),2)"
   ]
  },
  {
   "cell_type": "code",
   "execution_count": 30,
   "id": "7e99a26b-c11d-4cd0-8c15-69dfc038a9e3",
   "metadata": {},
   "outputs": [
    {
     "data": {
      "text/plain": [
       "0    9.99\n",
       "Name: price, dtype: float64"
      ]
     },
     "execution_count": 30,
     "metadata": {},
     "output_type": "execute_result"
    }
   ],
   "source": [
    "mode_price = df['price'].mode()\n",
    "mode_price"
   ]
  },
  {
   "cell_type": "code",
   "execution_count": null,
   "id": "deae8cff-4fcb-4c62-9d76-5eb18c54dde1",
   "metadata": {},
   "outputs": [],
   "source": [
    "#average price is higher from  the  mode.The tail of the distribution extends to the right, pulling the mean towards the higher values"
   ]
  },
  {
   "cell_type": "code",
   "execution_count": 36,
   "id": "e201068d-a5ad-4444-9b58-2df3243d1b58",
   "metadata": {},
   "outputs": [
    {
     "data": {
      "text/plain": [
       "(100000.0,\n",
       " 130048.57,\n",
       " 360.62,\n",
       " 0.25    10.00\n",
       " 0.50    19.90\n",
       " 0.75    47.71\n",
       " Name: price, dtype: float64)"
      ]
     },
     "execution_count": 36,
     "metadata": {},
     "output_type": "execute_result"
    }
   ],
   "source": [
    "range =df.price.max() - df.price.min()\n",
    "variance =round(df.price.var(),2)\n",
    "standart_deviation =round(df.price.std(),2)\n",
    "quantiles_price = df.price.quantile([0.25, 0.5, 0.75])\n",
    "range, variance, standart_deviation, quantiles_price"
   ]
  },
  {
   "cell_type": "code",
   "execution_count": null,
   "id": "3cad589e-285e-4b6f-9ab4-49b9f742e3fa",
   "metadata": {},
   "outputs": [],
   "source": [
    "# the standart deviation is 360 that means that is spread that much on average 94"
   ]
  },
  {
   "cell_type": "code",
   "execution_count": 39,
   "id": "51b42b5e-c74e-41a5-a763-9393367dcddf",
   "metadata": {},
   "outputs": [
    {
     "name": "stderr",
     "output_type": "stream",
     "text": [
      "C:\\Users\\zaiid\\anaconda3\\Lib\\site-packages\\seaborn\\_oldcore.py:1119: FutureWarning: use_inf_as_na option is deprecated and will be removed in a future version. Convert inf values to NaN before operating instead.\n",
      "  with pd.option_context('mode.use_inf_as_na', True):\n"
     ]
    },
    {
     "data": {
      "text/plain": [
       "<Axes: xlabel='price', ylabel='Count'>"
      ]
     },
     "execution_count": 39,
     "metadata": {},
     "output_type": "execute_result"
    },
    {
     "data": {
      "image/png": "[encoded data removed]",
      "text/plain": [
       "<Figure size 640x480 with 1 Axes>"
      ]
     },
     "metadata": {},
     "output_type": "display_data"
    }
   ],
   "source": [
    "sns.histplot(df['price'], kde=True, bins=30, color=\"blue\")"
   ]
  },
  {
   "cell_type": "code",
   "execution_count": null,
   "id": "80406a19-b3bf-4845-993c-6624f8ae91dd",
   "metadata": {},
   "outputs": [],
   "source": [
    "# its difficult because the are two many values and the range is to big"
   ]
  },
  {
   "cell_type": "code",
   "execution_count": 37,
   "id": "b13dc623-90bd-4926-9242-25ad33c7e8eb",
   "metadata": {},
   "outputs": [
    {
     "data": {
      "text/plain": [
       "<Axes: >"
      ]
     },
     "execution_count": 37,
     "metadata": {},
     "output_type": "execute_result"
    },
    {
     "data": {
      "image/png": "[encoded data removed]",
      "text/plain": [
       "<Figure size 640x480 with 1 Axes>"
      ]
     },
     "metadata": {},
     "output_type": "display_data"
    }
   ],
   "source": [
    "sns.boxplot(data = df['price'], color=\"lightblue\")"
   ]
  },
  {
   "cell_type": "code",
   "execution_count": 40,
   "id": "4c1f90f4-8a8a-4f7e-bcf9-2b9fd1ecdd07",
   "metadata": {},
   "outputs": [
    {
     "data": {
      "text/plain": [
       "<Axes: >"
      ]
     },
     "execution_count": 40,
     "metadata": {},
     "output_type": "execute_result"
    },
    {
     "data": {
      "image/png": "[encoded data removed]",
      "text/plain": [
       "<Figure size 640x480 with 1 Axes>"
      ]
     },
     "metadata": {},
     "output_type": "display_data"
    }
   ],
   "source": [
    "import seaborn as sns\n",
    "\n",
    "\n",
    "filtered_data = df[(df['price'] >= 0) & (df['price'] <= 100)]\n",
    "\n",
    "\n",
    "sns.boxplot(data=filtered_data['price'], color=\"lightblue\")\n"
   ]
  },
  {
   "cell_type": "code",
   "execution_count": null,
   "id": "0395c728-e106-4533-8095-3edf8cf71a57",
   "metadata": {},
   "outputs": [],
   "source": [
    "Business Question: How do customers rate products on Amazon UK, and are there any patterns or tendencies in the ratings?\n",
    "\n",
    "Measures of Centrality:\n",
    "\n",
    "Calculate the mean, median, and mode for the rating of products.\n",
    "How do customers generally rate products? Is there a common trend?\n",
    "Measures of Dispersion:\n",
    "\n",
    "Determine the variance, standard deviation, and interquartile range for product rating.\n",
    "Are the ratings consistent, or is there a wide variation in customer feedback?\n",
    "Shape of the Distribution:\n",
    "\n",
    "Calculate the skewness and kurtosis for the rating column.\n",
    "Are the ratings normally distributed, or do they lean towards higher or lower values?\n",
    "Visualizations:\n",
    "\n",
    "Plot a histogram to visualize the distribution of product ratings. Is there a specific rating that is more common?\n"
   ]
  },
  {
   "cell_type": "code",
   "execution_count": 46,
   "id": "94561157-20de-4968-9864-4c347b279ee8",
   "metadata": {},
   "outputs": [
    {
     "data": {
      "text/plain": [
       "(count    2222742.0\n",
       " mean           2.0\n",
       " std            2.0\n",
       " min            0.0\n",
       " 25%            0.0\n",
       " 50%            0.0\n",
       " 75%            4.0\n",
       " max            5.0\n",
       " Name: stars, dtype: float64,\n",
       " 0    0.0\n",
       " Name: stars, dtype: float64,\n",
       " 0.25    0.0\n",
       " 0.50    0.0\n",
       " 0.75    4.4\n",
       " Name: stars, dtype: float64)"
      ]
     },
     "execution_count": 46,
     "metadata": {},
     "output_type": "execute_result"
    }
   ],
   "source": [
    "sts = round(df.stars.describe())\n",
    "mode =df.stars.mode()\n",
    "quantiles_stars = df.stars.quantile([0.25, 0.5, 0.75])\n",
    "sts, mode, quantiles_stars"
   ]
  },
  {
   "cell_type": "code",
   "execution_count": null,
   "id": "02e0c654-1c73-4150-ac77-6d6de11afd06",
   "metadata": {},
   "outputs": [],
   "source": [
    "#yes is a coomon trend they give 0"
   ]
  },
  {
   "cell_type": "code",
   "execution_count": 50,
   "id": "cb7a1e3e-ebf3-467e-afd4-56301443ad4c",
   "metadata": {},
   "outputs": [
    {
     "data": {
      "text/plain": [
       "(0.18791227498746874, -1.8982043343323995)"
      ]
     },
     "execution_count": 50,
     "metadata": {},
     "output_type": "execute_result"
    }
   ],
   "source": [
    "skewness_stars = df.stars.skew()\n",
    "kurtosis_stars = df.stars.kurtosis()\n",
    "\n",
    "skewness_stars, kurtosis_stars"
   ]
  },
  {
   "cell_type": "code",
   "execution_count": 51,
   "id": "78552bd6-4146-4177-8d75-17502272e9f8",
   "metadata": {},
   "outputs": [
    {
     "name": "stderr",
     "output_type": "stream",
     "text": [
      "C:\\Users\\zaiid\\anaconda3\\Lib\\site-packages\\seaborn\\_oldcore.py:1119: FutureWarning: use_inf_as_na option is deprecated and will be removed in a future version. Convert inf values to NaN before operating instead.\n",
      "  with pd.option_context('mode.use_inf_as_na', True):\n"
     ]
    },
    {
     "data": {
      "text/plain": [
       "<Axes: xlabel='stars', ylabel='Count'>"
      ]
     },
     "execution_count": 51,
     "metadata": {},
     "output_type": "execute_result"
    },
    {
     "data": {
      "image/png": "[encoded data removed]",
      "text/plain": [
       "<Figure size 640x480 with 1 Axes>"
      ]
     },
     "metadata": {},
     "output_type": "display_data"
    }
   ],
   "source": [
    "sns.histplot(df['stars'], kde=True, bins=30, color=\"blue\")"
   ]
  },
  {
   "cell_type": "code",
   "execution_count": null,
   "id": "d78d21ba-f9ef-461f-839c-69bd69eca473",
   "metadata": {},
   "outputs": [],
   "source": []
  }
 ],
 "metadata": {
  "kernelspec": {
   "display_name": "Python 3 (ipykernel)",
   "language": "python",
   "name": "python3"
  },
  "language_info": {
   "codemirror_mode": {
    "name": "ipython",
    "version": 3
   },
   "file_extension": ".py",
   "mimetype": "text/x-python",
   "name": "python",
   "nbconvert_exporter": "python",
   "pygments_lexer": "ipython3",
   "version": "3.11.7"
  }
 },
 "nbformat": 4,
 "nbformat_minor": 5
}
